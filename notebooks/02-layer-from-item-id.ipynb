{
 "cells": [
  {
   "cell_type": "markdown",
   "metadata": {},
   "source": [
    "# Get Layer by Item ID"
   ]
  },
  {
   "cell_type": "code",
   "execution_count": 3,
   "metadata": {},
   "outputs": [],
   "source": [
    "import importlib\n",
    "import os\n",
    "from pathlib import Path\n",
    "import sys\n",
    "\n",
    "from arcgis.features import GeoAccessor, GeoSeriesAccessor\n",
    "from arcgis.gis import GIS\n",
    "from dotenv import load_dotenv, find_dotenv\n",
    "import pandas as pd\n",
    "\n",
    "# import arcpy if available\n",
    "if importlib.util.find_spec(\"arcpy\") is not None:\n",
    "    import arcpy"
   ]
  },
  {
   "cell_type": "code",
   "execution_count": 4,
   "metadata": {},
   "outputs": [
    {
     "name": "stdout",
     "output_type": "stream",
     "text": [
      "The autoreload extension is already loaded. To reload it, use:\n",
      "  %reload_ext autoreload\n"
     ]
    },
    {
     "data": {
      "text/html": [
       "GIS @ <a href=\"https://geoai.maps.arcgis.com\">https://geoai.maps.arcgis.com</a>"
      ],
      "text/plain": [
       "GIS @ https://geoai.maps.arcgis.com version:8.1"
      ]
     },
     "execution_count": 4,
     "metadata": {},
     "output_type": "execute_result"
    }
   ],
   "source": [
    "# load environment variables from .env\n",
    "load_dotenv(find_dotenv())\n",
    "\n",
    "# load the \"autoreload\" extension so that code can change, & always reload modules so that as you change code in src, it gets loaded\n",
    "%load_ext autoreload\n",
    "%autoreload 2\n",
    "\n",
    "# create a GIS object instance; if you did not enter any information here, it defaults to anonymous access to ArcGIS Online\n",
    "gis = GIS(\n",
    "    url=os.getenv('ESRI_GIS_URL'), \n",
    "    username=os.getenv('ESRI_GIS_USERNAME'),\n",
    "    password=os.getenv('ESRI_GIS_PASSWORD')\n",
    ")\n",
    "\n",
    "gis"
   ]
  },
  {
   "cell_type": "code",
   "execution_count": 46,
   "metadata": {},
   "outputs": [
    {
     "name": "stdout",
     "output_type": "stream",
     "text": [
      "https://arcgis.com/home/item.html?id=999b5d0dbe2742bc92cfb126a33ff057\n"
     ]
    }
   ],
   "source": [
    "itm_id = \"999b5d0dbe2742bc92cfb126a33ff057\"\n",
    "print(f'https://arcgis.com/home/item.html?id={itm_id}')"
   ]
  },
  {
   "cell_type": "code",
   "execution_count": 39,
   "metadata": {
    "scrolled": true
   },
   "outputs": [
    {
     "data": {
      "text/html": [
       "<div class=\"item_container\" style=\"height: auto; overflow: hidden; border: 1px solid #cfcfcf; border-radius: 2px; background: #f6fafa; line-height: 1.21429em; padding: 10px;\">\n",
       "                    <div class=\"item_left\" style=\"width: 210px; float: left;\">\n",
       "                       <a href='https://geoai.maps.arcgis.com/home/item.html?id=999b5d0dbe2742bc92cfb126a33ff057' target='_blank'>\n",
       "                        <img src='data:image/png;base64,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' width='200' height='133' class=\"itemThumbnail\">\n",
       "                       </a>\n",
       "                    </div>\n",
       "\n",
       "                    <div class=\"item_right\"     style=\"float: none; width: auto; overflow: hidden;\">\n",
       "                        <a href='https://geoai.maps.arcgis.com/home/item.html?id=999b5d0dbe2742bc92cfb126a33ff057' target='_blank'><b>COVID-19 Daily Cases LA County - Cities and Communities</b>\n",
       "                        </a>\n",
       "                        <br/>COVID-19 Daily Cases Breakdown for Cities and Communities in LA County<img src='https://geoai.maps.arcgis.com/home/js/jsapi/esri/css/images/item_type_icons/featureshosted16.png' style=\"vertical-align:middle;\">Feature Layer Collection by HSACadmin\n",
       "                        <br/>Last Modified: May 22, 2020\n",
       "                        <br/>0 comments, 54,512 views\n",
       "                    </div>\n",
       "                </div>\n",
       "                "
      ],
      "text/plain": [
       "<Item title:\"COVID-19 Daily Cases LA County - Cities and Communities\" type:Feature Layer Collection owner:HSACadmin>"
      ]
     },
     "execution_count": 39,
     "metadata": {},
     "output_type": "execute_result"
    }
   ],
   "source": [
    "itm = gis.content.get(itm_id)\n",
    "itm"
   ]
  },
  {
   "cell_type": "code",
   "execution_count": 40,
   "metadata": {},
   "outputs": [
    {
     "data": {
      "text/plain": [
       "[<FeatureLayer url:\"https://services7.arcgis.com/aFfS9FqkIRSo0Ceu/arcgis/rest/services/COVID19_Daily_Cases_LA_County_View_Only/FeatureServer/0\">,\n",
       " <FeatureLayer url:\"https://services7.arcgis.com/aFfS9FqkIRSo0Ceu/arcgis/rest/services/COVID19_Daily_Cases_LA_County_View_Only/FeatureServer/1\">]"
      ]
     },
     "execution_count": 40,
     "metadata": {},
     "output_type": "execute_result"
    }
   ],
   "source": [
    "lyr_lst = itm.layers\n",
    "lyr_lst"
   ]
  },
  {
   "cell_type": "code",
   "execution_count": 41,
   "metadata": {},
   "outputs": [
    {
     "data": {
      "text/plain": [
       "<FeatureLayer url:\"https://services7.arcgis.com/aFfS9FqkIRSo0Ceu/arcgis/rest/services/COVID19_Daily_Cases_LA_County_View_Only/FeatureServer/1\">"
      ]
     },
     "execution_count": 41,
     "metadata": {},
     "output_type": "execute_result"
    }
   ],
   "source": [
    "lyr = lyr_lst[1]\n",
    "lyr"
   ]
  },
  {
   "cell_type": "code",
   "execution_count": 42,
   "metadata": {},
   "outputs": [
    {
     "name": "stderr",
     "output_type": "stream",
     "text": [
      "/Users/joel5174/miniconda3/envs/la-covid/lib/python3.8/site-packages/arcgis/features/layer.py:2044: FutureWarning: The pandas.datetime class is deprecated and will be removed from pandas in a future version. Import from datetime module instead.\n",
      "  \"esriFieldTypeDate\" : pd.datetime,\n"
     ]
    },
    {
     "data": {
      "text/html": [
       "<div>\n",
       "<style scoped>\n",
       "    .dataframe tbody tr th:only-of-type {\n",
       "        vertical-align: middle;\n",
       "    }\n",
       "\n",
       "    .dataframe tbody tr th {\n",
       "        vertical-align: top;\n",
       "    }\n",
       "\n",
       "    .dataframe thead th {\n",
       "        text-align: right;\n",
       "    }\n",
       "</style>\n",
       "<table border=\"1\" class=\"dataframe\">\n",
       "  <thead>\n",
       "    <tr style=\"text-align: right;\">\n",
       "      <th></th>\n",
       "      <th>OBJECTID</th>\n",
       "      <th>Name</th>\n",
       "      <th>Confirmed_Cases</th>\n",
       "      <th>Confirmed_Deaths</th>\n",
       "      <th>Label_Name</th>\n",
       "      <th>GlobalID</th>\n",
       "      <th>EditDate</th>\n",
       "      <th>Estimated_Population</th>\n",
       "      <th>Crude_Rate_Per_100000</th>\n",
       "      <th>AVG_CDC_SVI_Score</th>\n",
       "      <th>Death_Rate</th>\n",
       "      <th>SHAPE</th>\n",
       "    </tr>\n",
       "  </thead>\n",
       "  <tbody>\n",
       "    <tr>\n",
       "      <th>0</th>\n",
       "      <td>204</td>\n",
       "      <td>Los Angeles County (excl. LB and Pas)</td>\n",
       "      <td>47208</td>\n",
       "      <td>2078.0</td>\n",
       "      <td>Los Angeles County (excl. LB and Pas)</td>\n",
       "      <td>0ce21772-a704-4c66-8327-609d637e2338</td>\n",
       "      <td>2020-05-28 22:25:59.670</td>\n",
       "      <td>NaN</td>\n",
       "      <td>NaN</td>\n",
       "      <td>NaN</td>\n",
       "      <td>NaN</td>\n",
       "      <td>{\"rings\": [[[-118.415318938229, 32.79520151226...</td>\n",
       "    </tr>\n",
       "    <tr>\n",
       "      <th>1</th>\n",
       "      <td>205</td>\n",
       "      <td>Under Investigation</td>\n",
       "      <td>1948</td>\n",
       "      <td>NaN</td>\n",
       "      <td>Under Investigation</td>\n",
       "      <td>fc247b7f-097c-4382-b26b-28a84f23fafc</td>\n",
       "      <td>2020-05-28 22:22:22.643</td>\n",
       "      <td>NaN</td>\n",
       "      <td>NaN</td>\n",
       "      <td>NaN</td>\n",
       "      <td>NaN</td>\n",
       "      <td>{\"rings\": [[[-118.415318938229, 32.79520151226...</td>\n",
       "    </tr>\n",
       "    <tr>\n",
       "      <th>2</th>\n",
       "      <td>206</td>\n",
       "      <td>City of Agoura Hills</td>\n",
       "      <td>35</td>\n",
       "      <td>0.0</td>\n",
       "      <td>Agoura Hills</td>\n",
       "      <td>24426fd6-b002-4dbd-bd62-3e1d2820f61b</td>\n",
       "      <td>2020-05-28 22:22:22.643</td>\n",
       "      <td>20883.0</td>\n",
       "      <td>167.600441</td>\n",
       "      <td>0.18</td>\n",
       "      <td>0.000000</td>\n",
       "      <td>{\"rings\": [[[-118.728636165797, 34.16792606715...</td>\n",
       "    </tr>\n",
       "    <tr>\n",
       "      <th>3</th>\n",
       "      <td>207</td>\n",
       "      <td>City of Alhambra</td>\n",
       "      <td>191</td>\n",
       "      <td>8.0</td>\n",
       "      <td>Alhambra</td>\n",
       "      <td>1a6c5add-7cfa-4de3-b7f4-26de6c8b73b9</td>\n",
       "      <td>2020-05-28 22:25:59.670</td>\n",
       "      <td>86724.0</td>\n",
       "      <td>220.238919</td>\n",
       "      <td>0.66</td>\n",
       "      <td>9.224667</td>\n",
       "      <td>{\"rings\": [[[-118.121087787166, 34.10536850013...</td>\n",
       "    </tr>\n",
       "    <tr>\n",
       "      <th>4</th>\n",
       "      <td>208</td>\n",
       "      <td>City of Arcadia</td>\n",
       "      <td>80</td>\n",
       "      <td>5.0</td>\n",
       "      <td>Arcadia</td>\n",
       "      <td>f05ba124-f38b-4e35-964d-fdf931ea8965</td>\n",
       "      <td>2020-05-28 22:25:59.670</td>\n",
       "      <td>57754.0</td>\n",
       "      <td>138.518544</td>\n",
       "      <td>0.39</td>\n",
       "      <td>8.657409</td>\n",
       "      <td>{\"rings\": [[[-118.006721561246, 34.12934573330...</td>\n",
       "    </tr>\n",
       "  </tbody>\n",
       "</table>\n",
       "</div>"
      ],
      "text/plain": [
       "   OBJECTID                                   Name  Confirmed_Cases  \\\n",
       "0       204  Los Angeles County (excl. LB and Pas)            47208   \n",
       "1       205                    Under Investigation             1948   \n",
       "2       206                   City of Agoura Hills               35   \n",
       "3       207                       City of Alhambra              191   \n",
       "4       208                        City of Arcadia               80   \n",
       "\n",
       "   Confirmed_Deaths                             Label_Name  \\\n",
       "0            2078.0  Los Angeles County (excl. LB and Pas)   \n",
       "1               NaN                    Under Investigation   \n",
       "2               0.0                           Agoura Hills   \n",
       "3               8.0                               Alhambra   \n",
       "4               5.0                                Arcadia   \n",
       "\n",
       "                               GlobalID                EditDate  \\\n",
       "0  0ce21772-a704-4c66-8327-609d637e2338 2020-05-28 22:25:59.670   \n",
       "1  fc247b7f-097c-4382-b26b-28a84f23fafc 2020-05-28 22:22:22.643   \n",
       "2  24426fd6-b002-4dbd-bd62-3e1d2820f61b 2020-05-28 22:22:22.643   \n",
       "3  1a6c5add-7cfa-4de3-b7f4-26de6c8b73b9 2020-05-28 22:25:59.670   \n",
       "4  f05ba124-f38b-4e35-964d-fdf931ea8965 2020-05-28 22:25:59.670   \n",
       "\n",
       "   Estimated_Population  Crude_Rate_Per_100000  AVG_CDC_SVI_Score  Death_Rate  \\\n",
       "0                   NaN                    NaN                NaN         NaN   \n",
       "1                   NaN                    NaN                NaN         NaN   \n",
       "2               20883.0             167.600441               0.18    0.000000   \n",
       "3               86724.0             220.238919               0.66    9.224667   \n",
       "4               57754.0             138.518544               0.39    8.657409   \n",
       "\n",
       "                                               SHAPE  \n",
       "0  {\"rings\": [[[-118.415318938229, 32.79520151226...  \n",
       "1  {\"rings\": [[[-118.415318938229, 32.79520151226...  \n",
       "2  {\"rings\": [[[-118.728636165797, 34.16792606715...  \n",
       "3  {\"rings\": [[[-118.121087787166, 34.10536850013...  \n",
       "4  {\"rings\": [[[-118.006721561246, 34.12934573330...  "
      ]
     },
     "execution_count": 42,
     "metadata": {},
     "output_type": "execute_result"
    }
   ],
   "source": [
    "df = lyr.query(out_sr=4326, as_df=True)\n",
    "df.head()"
   ]
  },
  {
   "cell_type": "code",
   "execution_count": 47,
   "metadata": {},
   "outputs": [
    {
     "name": "stderr",
     "output_type": "stream",
     "text": [
      "/Users/joel5174/miniconda3/envs/la-covid/lib/python3.8/site-packages/arcgis/features/geo/_accessor.py:2362: FutureWarning: The pandas.datetime class is deprecated and will be removed from pandas in a future version. Import from datetime module instead.\n",
      "  pd.datetime)):\n"
     ]
    },
    {
     "data": {
      "application/vnd.jupyter.widget-view+json": {
       "model_id": "923e384e6e064d97829d3330644dca03",
       "version_major": 2,
       "version_minor": 0
      },
      "text/plain": [
       "MapView(layout=Layout(height='400px', width='100%'))"
      ]
     },
     "metadata": {},
     "output_type": "display_data"
    },
    {
     "data": {
      "text/html": [
       "<div class=\"map-static-img-preview-2664805c-0fd9-4bb0-a90e-bfae566169e6\"><img src=\"\"></img></div>"
      ],
      "text/plain": [
       "<IPython.core.display.HTML object>"
      ]
     },
     "metadata": {},
     "output_type": "display_data"
    }
   ],
   "source": [
    "df.spatial.plot(gis=GIS())"
   ]
  },
  {
   "cell_type": "code",
   "execution_count": 44,
   "metadata": {},
   "outputs": [
    {
     "data": {
      "text/html": [
       "<div>\n",
       "<style scoped>\n",
       "    .dataframe tbody tr th:only-of-type {\n",
       "        vertical-align: middle;\n",
       "    }\n",
       "\n",
       "    .dataframe tbody tr th {\n",
       "        vertical-align: top;\n",
       "    }\n",
       "\n",
       "    .dataframe thead th {\n",
       "        text-align: right;\n",
       "    }\n",
       "</style>\n",
       "<table border=\"1\" class=\"dataframe\">\n",
       "  <thead>\n",
       "    <tr style=\"text-align: right;\">\n",
       "      <th></th>\n",
       "      <th>alias</th>\n",
       "      <th>defaultValue</th>\n",
       "      <th>domain</th>\n",
       "      <th>editable</th>\n",
       "      <th>length</th>\n",
       "      <th>name</th>\n",
       "      <th>nullable</th>\n",
       "      <th>sqlType</th>\n",
       "      <th>type</th>\n",
       "    </tr>\n",
       "  </thead>\n",
       "  <tbody>\n",
       "    <tr>\n",
       "      <th>0</th>\n",
       "      <td>OBJECTID</td>\n",
       "      <td>None</td>\n",
       "      <td>None</td>\n",
       "      <td>False</td>\n",
       "      <td>NaN</td>\n",
       "      <td>OBJECTID</td>\n",
       "      <td>False</td>\n",
       "      <td>sqlTypeOther</td>\n",
       "      <td>esriFieldTypeOID</td>\n",
       "    </tr>\n",
       "    <tr>\n",
       "      <th>1</th>\n",
       "      <td>City/Community</td>\n",
       "      <td>None</td>\n",
       "      <td>None</td>\n",
       "      <td>True</td>\n",
       "      <td>500.0</td>\n",
       "      <td>Name</td>\n",
       "      <td>True</td>\n",
       "      <td>sqlTypeOther</td>\n",
       "      <td>esriFieldTypeString</td>\n",
       "    </tr>\n",
       "    <tr>\n",
       "      <th>2</th>\n",
       "      <td>Cases</td>\n",
       "      <td>None</td>\n",
       "      <td>None</td>\n",
       "      <td>True</td>\n",
       "      <td>NaN</td>\n",
       "      <td>Confirmed_Cases</td>\n",
       "      <td>True</td>\n",
       "      <td>sqlTypeOther</td>\n",
       "      <td>esriFieldTypeDouble</td>\n",
       "    </tr>\n",
       "    <tr>\n",
       "      <th>3</th>\n",
       "      <td>Deaths</td>\n",
       "      <td>None</td>\n",
       "      <td>None</td>\n",
       "      <td>True</td>\n",
       "      <td>NaN</td>\n",
       "      <td>Confirmed_Deaths</td>\n",
       "      <td>True</td>\n",
       "      <td>sqlTypeOther</td>\n",
       "      <td>esriFieldTypeDouble</td>\n",
       "    </tr>\n",
       "    <tr>\n",
       "      <th>4</th>\n",
       "      <td>Name</td>\n",
       "      <td>None</td>\n",
       "      <td>None</td>\n",
       "      <td>True</td>\n",
       "      <td>255.0</td>\n",
       "      <td>Label_Name</td>\n",
       "      <td>True</td>\n",
       "      <td>sqlTypeOther</td>\n",
       "      <td>esriFieldTypeString</td>\n",
       "    </tr>\n",
       "    <tr>\n",
       "      <th>5</th>\n",
       "      <td>GlobalID</td>\n",
       "      <td>None</td>\n",
       "      <td>None</td>\n",
       "      <td>False</td>\n",
       "      <td>38.0</td>\n",
       "      <td>GlobalID</td>\n",
       "      <td>False</td>\n",
       "      <td>sqlTypeOther</td>\n",
       "      <td>esriFieldTypeGlobalID</td>\n",
       "    </tr>\n",
       "    <tr>\n",
       "      <th>6</th>\n",
       "      <td>Edit Date</td>\n",
       "      <td>None</td>\n",
       "      <td>None</td>\n",
       "      <td>False</td>\n",
       "      <td>8.0</td>\n",
       "      <td>EditDate</td>\n",
       "      <td>True</td>\n",
       "      <td>sqlTypeOther</td>\n",
       "      <td>esriFieldTypeDate</td>\n",
       "    </tr>\n",
       "    <tr>\n",
       "      <th>7</th>\n",
       "      <td>Population</td>\n",
       "      <td>None</td>\n",
       "      <td>None</td>\n",
       "      <td>True</td>\n",
       "      <td>NaN</td>\n",
       "      <td>Estimated_Population</td>\n",
       "      <td>True</td>\n",
       "      <td>sqlTypeOther</td>\n",
       "      <td>esriFieldTypeDouble</td>\n",
       "    </tr>\n",
       "    <tr>\n",
       "      <th>8</th>\n",
       "      <td>Crude Rate Per 100K</td>\n",
       "      <td>None</td>\n",
       "      <td>None</td>\n",
       "      <td>True</td>\n",
       "      <td>NaN</td>\n",
       "      <td>Crude_Rate_Per_100000</td>\n",
       "      <td>True</td>\n",
       "      <td>sqlTypeOther</td>\n",
       "      <td>esriFieldTypeDouble</td>\n",
       "    </tr>\n",
       "    <tr>\n",
       "      <th>9</th>\n",
       "      <td>Average Overall Social Vulnerability Index 2018</td>\n",
       "      <td>None</td>\n",
       "      <td>None</td>\n",
       "      <td>True</td>\n",
       "      <td>NaN</td>\n",
       "      <td>AVG_CDC_SVI_Score</td>\n",
       "      <td>True</td>\n",
       "      <td>sqlTypeOther</td>\n",
       "      <td>esriFieldTypeDouble</td>\n",
       "    </tr>\n",
       "    <tr>\n",
       "      <th>10</th>\n",
       "      <td>Death Rate</td>\n",
       "      <td>None</td>\n",
       "      <td>None</td>\n",
       "      <td>True</td>\n",
       "      <td>NaN</td>\n",
       "      <td>Death_Rate</td>\n",
       "      <td>True</td>\n",
       "      <td>sqlTypeOther</td>\n",
       "      <td>esriFieldTypeDouble</td>\n",
       "    </tr>\n",
       "  </tbody>\n",
       "</table>\n",
       "</div>"
      ],
      "text/plain": [
       "                                              alias defaultValue domain  \\\n",
       "0                                          OBJECTID         None   None   \n",
       "1                                    City/Community         None   None   \n",
       "2                                             Cases         None   None   \n",
       "3                                            Deaths         None   None   \n",
       "4                                              Name         None   None   \n",
       "5                                          GlobalID         None   None   \n",
       "6                                         Edit Date         None   None   \n",
       "7                                        Population         None   None   \n",
       "8                               Crude Rate Per 100K         None   None   \n",
       "9   Average Overall Social Vulnerability Index 2018         None   None   \n",
       "10                                       Death Rate         None   None   \n",
       "\n",
       "    editable  length                   name  nullable       sqlType  \\\n",
       "0      False     NaN               OBJECTID     False  sqlTypeOther   \n",
       "1       True   500.0                   Name      True  sqlTypeOther   \n",
       "2       True     NaN        Confirmed_Cases      True  sqlTypeOther   \n",
       "3       True     NaN       Confirmed_Deaths      True  sqlTypeOther   \n",
       "4       True   255.0             Label_Name      True  sqlTypeOther   \n",
       "5      False    38.0               GlobalID     False  sqlTypeOther   \n",
       "6      False     8.0               EditDate      True  sqlTypeOther   \n",
       "7       True     NaN   Estimated_Population      True  sqlTypeOther   \n",
       "8       True     NaN  Crude_Rate_Per_100000      True  sqlTypeOther   \n",
       "9       True     NaN      AVG_CDC_SVI_Score      True  sqlTypeOther   \n",
       "10      True     NaN             Death_Rate      True  sqlTypeOther   \n",
       "\n",
       "                     type  \n",
       "0        esriFieldTypeOID  \n",
       "1     esriFieldTypeString  \n",
       "2     esriFieldTypeDouble  \n",
       "3     esriFieldTypeDouble  \n",
       "4     esriFieldTypeString  \n",
       "5   esriFieldTypeGlobalID  \n",
       "6       esriFieldTypeDate  \n",
       "7     esriFieldTypeDouble  \n",
       "8     esriFieldTypeDouble  \n",
       "9     esriFieldTypeDouble  \n",
       "10    esriFieldTypeDouble  "
      ]
     },
     "execution_count": 44,
     "metadata": {},
     "output_type": "execute_result"
    }
   ],
   "source": [
    "fld_df = pd.DataFrame(lyr.properties.fields)\n",
    "fld_df"
   ]
  },
  {
   "cell_type": "code",
   "execution_count": null,
   "metadata": {},
   "outputs": [],
   "source": []
  }
 ],
 "metadata": {
  "kernelspec": {
   "display_name": "Python 3",
   "language": "python",
   "name": "python3"
  }
 },
 "nbformat": 4,
 "nbformat_minor": 4
}
