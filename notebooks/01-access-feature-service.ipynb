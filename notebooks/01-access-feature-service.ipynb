{
 "cells": [
  {
   "cell_type": "code",
   "execution_count": 13,
   "metadata": {},
   "outputs": [],
   "source": [
    "import importlib\n",
    "import os\n",
    "from pathlib import Path\n",
    "import sys\n",
    "\n",
    "from arcgis.features import GeoAccessor, GeoSeriesAccessor\n",
    "from arcgis.gis import GIS\n",
    "from dotenv import load_dotenv, find_dotenv\n",
    "import pandas as pd"
   ]
  },
  {
   "cell_type": "code",
   "execution_count": 14,
   "metadata": {},
   "outputs": [
    {
     "name": "stdout",
     "output_type": "stream",
     "text": [
      "The autoreload extension is already loaded. To reload it, use:\n",
      "  %reload_ext autoreload\n"
     ]
    },
    {
     "data": {
      "text/html": [
       "GIS @ <a href=\"https://geoai.maps.arcgis.com\">https://geoai.maps.arcgis.com</a>"
      ],
      "text/plain": [
       "GIS @ https://geoai.maps.arcgis.com version:8.1"
      ]
     },
     "execution_count": 14,
     "metadata": {},
     "output_type": "execute_result"
    }
   ],
   "source": [
    "# load environment variables from .env\n",
    "load_dotenv(find_dotenv())\n",
    "\n",
    "# load the \"autoreload\" extension so that code can change, & always reload modules so that as you change code in src, it gets loaded\n",
    "%load_ext autoreload\n",
    "%autoreload 2\n",
    "\n",
    "# create a GIS object instance; if you did not enter any information here, it defaults to anonymous access to ArcGIS Online\n",
    "gis = GIS(\n",
    "    url=os.getenv('ESRI_GIS_URL'), \n",
    "    username=os.getenv('ESRI_GIS_USERNAME'),\n",
    "    password=os.getenv('ESRI_GIS_PASSWORD')\n",
    ")\n",
    "\n",
    "gis"
   ]
  },
  {
   "cell_type": "code",
   "execution_count": 15,
   "metadata": {},
   "outputs": [],
   "source": [
    "url_fs = \"https://public.gis.lacounty.gov/public/rest/services/LACounty_Dynamic/LMS_Data_Public/MapServer/4\""
   ]
  },
  {
   "cell_type": "code",
   "execution_count": 16,
   "metadata": {},
   "outputs": [
    {
     "data": {
      "text/plain": [
       "<FeatureLayer url:\"https://public.gis.lacounty.gov/public/rest/services/LACounty_Dynamic/LMS_Data_Public/MapServer/4\">"
      ]
     },
     "execution_count": 16,
     "metadata": {},
     "output_type": "execute_result"
    }
   ],
   "source": [
    "lyr = FeatureLayer(url_fs)\n",
    "lyr"
   ]
  },
  {
   "cell_type": "code",
   "execution_count": 17,
   "metadata": {},
   "outputs": [
    {
     "name": "stderr",
     "output_type": "stream",
     "text": [
      "/Users/joel5174/miniconda3/envs/la-covid/lib/python3.8/site-packages/arcgis/features/layer.py:2044: FutureWarning: The pandas.datetime class is deprecated and will be removed from pandas in a future version. Import from datetime module instead.\n",
      "  \"esriFieldTypeDate\" : pd.datetime,\n"
     ]
    },
    {
     "data": {
      "text/html": [
       "<div>\n",
       "<style scoped>\n",
       "    .dataframe tbody tr th:only-of-type {\n",
       "        vertical-align: middle;\n",
       "    }\n",
       "\n",
       "    .dataframe tbody tr th {\n",
       "        vertical-align: top;\n",
       "    }\n",
       "\n",
       "    .dataframe thead th {\n",
       "        text-align: right;\n",
       "    }\n",
       "</style>\n",
       "<table border=\"1\" class=\"dataframe\">\n",
       "  <thead>\n",
       "    <tr style=\"text-align: right;\">\n",
       "      <th></th>\n",
       "      <th>OBJECTID</th>\n",
       "      <th>source</th>\n",
       "      <th>ext_id</th>\n",
       "      <th>cat1</th>\n",
       "      <th>cat2</th>\n",
       "      <th>cat3</th>\n",
       "      <th>org_name</th>\n",
       "      <th>Name</th>\n",
       "      <th>addrln1</th>\n",
       "      <th>addrln2</th>\n",
       "      <th>...</th>\n",
       "      <th>link</th>\n",
       "      <th>use_type</th>\n",
       "      <th>latitude</th>\n",
       "      <th>longitude</th>\n",
       "      <th>date_updated</th>\n",
       "      <th>email</th>\n",
       "      <th>dis_status</th>\n",
       "      <th>POINT_X</th>\n",
       "      <th>POINT_Y</th>\n",
       "      <th>SHAPE</th>\n",
       "    </tr>\n",
       "  </thead>\n",
       "  <tbody>\n",
       "    <tr>\n",
       "      <th>0</th>\n",
       "      <td>2364</td>\n",
       "      <td>LA City Recreation and Parks</td>\n",
       "      <td>None</td>\n",
       "      <td>Arts and Recreation</td>\n",
       "      <td>Cultural and Performing Arts Centers</td>\n",
       "      <td>None</td>\n",
       "      <td>LA City Department Recreation and Parks</td>\n",
       "      <td>Barnsdall Park</td>\n",
       "      <td>4800 Hollywood Blvd</td>\n",
       "      <td>None</td>\n",
       "      <td>...</td>\n",
       "      <td>http://egis3.lacounty.gov/lms/?p=2636</td>\n",
       "      <td>publish</td>\n",
       "      <td>34.101528</td>\n",
       "      <td>-118.294387</td>\n",
       "      <td>2014-06-10 12:44:15</td>\n",
       "      <td>None</td>\n",
       "      <td>None</td>\n",
       "      <td>6.472549e+06</td>\n",
       "      <td>1.859459e+06</td>\n",
       "      <td>{\"x\": -118.2943873565766, \"y\": 34.101527916881...</td>\n",
       "    </tr>\n",
       "    <tr>\n",
       "      <th>1</th>\n",
       "      <td>2478</td>\n",
       "      <td>211</td>\n",
       "      <td>None</td>\n",
       "      <td>Arts and Recreation</td>\n",
       "      <td>Cultural and Performing Arts Centers</td>\n",
       "      <td>None</td>\n",
       "      <td>www.artslb.org</td>\n",
       "      <td>Arts Council For Long Beach</td>\n",
       "      <td>350 Elm Ave</td>\n",
       "      <td>None</td>\n",
       "      <td>...</td>\n",
       "      <td>http://egis3.lacounty.gov/lms/?p=2737</td>\n",
       "      <td>publish</td>\n",
       "      <td>33.771450</td>\n",
       "      <td>-118.187417</td>\n",
       "      <td>2013-06-01 11:50:56</td>\n",
       "      <td>None</td>\n",
       "      <td>None</td>\n",
       "      <td>6.504709e+06</td>\n",
       "      <td>1.739259e+06</td>\n",
       "      <td>{\"x\": -118.18741685620508, \"y\": 33.77144990722...</td>\n",
       "    </tr>\n",
       "    <tr>\n",
       "      <th>2</th>\n",
       "      <td>3177</td>\n",
       "      <td>Current Services Locator</td>\n",
       "      <td>None</td>\n",
       "      <td>Arts and Recreation</td>\n",
       "      <td>Cultural and Performing Arts Centers</td>\n",
       "      <td>None</td>\n",
       "      <td>US Geological Survey (USGS) &amp; LA County</td>\n",
       "      <td>Music Center</td>\n",
       "      <td>135 N. Grand Ave.</td>\n",
       "      <td>None</td>\n",
       "      <td>...</td>\n",
       "      <td>http://egis3.lacounty.gov/lms/?p=3304</td>\n",
       "      <td>publish</td>\n",
       "      <td>34.056663</td>\n",
       "      <td>-118.248351</td>\n",
       "      <td>2010-11-01 19:50:56</td>\n",
       "      <td>None</td>\n",
       "      <td>None</td>\n",
       "      <td>6.486446e+06</td>\n",
       "      <td>1.843094e+06</td>\n",
       "      <td>{\"x\": -118.24835155650847, \"y\": 34.05666332732...</td>\n",
       "    </tr>\n",
       "    <tr>\n",
       "      <th>3</th>\n",
       "      <td>13036</td>\n",
       "      <td>Current Services Locator</td>\n",
       "      <td>None</td>\n",
       "      <td>Arts and Recreation</td>\n",
       "      <td>Cultural and Performing Arts Centers</td>\n",
       "      <td>None</td>\n",
       "      <td>US Geological Survey (USGS) &amp; LA County</td>\n",
       "      <td>Hollywood Bowl Performing Arts Complex</td>\n",
       "      <td>2301 N. Highland Ave.</td>\n",
       "      <td>None</td>\n",
       "      <td>...</td>\n",
       "      <td>http://egis3.lacounty.gov/lms/?p=13514</td>\n",
       "      <td>publish</td>\n",
       "      <td>34.111257</td>\n",
       "      <td>-118.336437</td>\n",
       "      <td>2010-11-01 19:50:56</td>\n",
       "      <td>None</td>\n",
       "      <td>None</td>\n",
       "      <td>6.459832e+06</td>\n",
       "      <td>1.863039e+06</td>\n",
       "      <td>{\"x\": -118.33643655622703, \"y\": 34.11125652713...</td>\n",
       "    </tr>\n",
       "    <tr>\n",
       "      <th>4</th>\n",
       "      <td>22276</td>\n",
       "      <td>HSIP Freedom Gnis_cultural_fe</td>\n",
       "      <td>2353750</td>\n",
       "      <td>Arts and Recreation</td>\n",
       "      <td>Cultural and Performing Arts Centers</td>\n",
       "      <td>None</td>\n",
       "      <td>US Geological Survey (USGS) &amp; LA County</td>\n",
       "      <td>Alhambra Renaissance Entertainment Center</td>\n",
       "      <td>None</td>\n",
       "      <td>None</td>\n",
       "      <td>...</td>\n",
       "      <td>http://egis3.lacounty.gov/lms/?p=24540</td>\n",
       "      <td>publish</td>\n",
       "      <td>34.096111</td>\n",
       "      <td>-118.126667</td>\n",
       "      <td>2010-11-01 19:50:56</td>\n",
       "      <td>None</td>\n",
       "      <td>None</td>\n",
       "      <td>6.523322e+06</td>\n",
       "      <td>1.857381e+06</td>\n",
       "      <td>{\"x\": -118.12666675658956, \"y\": 34.09611106726...</td>\n",
       "    </tr>\n",
       "  </tbody>\n",
       "</table>\n",
       "<p>5 rows × 30 columns</p>\n",
       "</div>"
      ],
      "text/plain": [
       "   OBJECTID                         source   ext_id                 cat1  \\\n",
       "0      2364   LA City Recreation and Parks     None  Arts and Recreation   \n",
       "1      2478                            211     None  Arts and Recreation   \n",
       "2      3177       Current Services Locator     None  Arts and Recreation   \n",
       "3     13036       Current Services Locator     None  Arts and Recreation   \n",
       "4     22276  HSIP Freedom Gnis_cultural_fe  2353750  Arts and Recreation   \n",
       "\n",
       "                                   cat2  cat3  \\\n",
       "0  Cultural and Performing Arts Centers  None   \n",
       "1  Cultural and Performing Arts Centers  None   \n",
       "2  Cultural and Performing Arts Centers  None   \n",
       "3  Cultural and Performing Arts Centers  None   \n",
       "4  Cultural and Performing Arts Centers  None   \n",
       "\n",
       "                                  org_name  \\\n",
       "0  LA City Department Recreation and Parks   \n",
       "1                           www.artslb.org   \n",
       "2  US Geological Survey (USGS) & LA County   \n",
       "3  US Geological Survey (USGS) & LA County   \n",
       "4  US Geological Survey (USGS) & LA County   \n",
       "\n",
       "                                        Name                addrln1 addrln2  \\\n",
       "0                             Barnsdall Park    4800 Hollywood Blvd    None   \n",
       "1                Arts Council For Long Beach            350 Elm Ave    None   \n",
       "2                               Music Center      135 N. Grand Ave.    None   \n",
       "3     Hollywood Bowl Performing Arts Complex  2301 N. Highland Ave.    None   \n",
       "4  Alhambra Renaissance Entertainment Center                   None    None   \n",
       "\n",
       "   ...                                    link use_type   latitude  \\\n",
       "0  ...   http://egis3.lacounty.gov/lms/?p=2636  publish  34.101528   \n",
       "1  ...   http://egis3.lacounty.gov/lms/?p=2737  publish  33.771450   \n",
       "2  ...   http://egis3.lacounty.gov/lms/?p=3304  publish  34.056663   \n",
       "3  ...  http://egis3.lacounty.gov/lms/?p=13514  publish  34.111257   \n",
       "4  ...  http://egis3.lacounty.gov/lms/?p=24540  publish  34.096111   \n",
       "\n",
       "    longitude        date_updated email dis_status       POINT_X  \\\n",
       "0 -118.294387 2014-06-10 12:44:15  None       None  6.472549e+06   \n",
       "1 -118.187417 2013-06-01 11:50:56  None       None  6.504709e+06   \n",
       "2 -118.248351 2010-11-01 19:50:56  None       None  6.486446e+06   \n",
       "3 -118.336437 2010-11-01 19:50:56  None       None  6.459832e+06   \n",
       "4 -118.126667 2010-11-01 19:50:56  None       None  6.523322e+06   \n",
       "\n",
       "        POINT_Y                                              SHAPE  \n",
       "0  1.859459e+06  {\"x\": -118.2943873565766, \"y\": 34.101527916881...  \n",
       "1  1.739259e+06  {\"x\": -118.18741685620508, \"y\": 33.77144990722...  \n",
       "2  1.843094e+06  {\"x\": -118.24835155650847, \"y\": 34.05666332732...  \n",
       "3  1.863039e+06  {\"x\": -118.33643655622703, \"y\": 34.11125652713...  \n",
       "4  1.857381e+06  {\"x\": -118.12666675658956, \"y\": 34.09611106726...  \n",
       "\n",
       "[5 rows x 30 columns]"
      ]
     },
     "execution_count": 17,
     "metadata": {},
     "output_type": "execute_result"
    }
   ],
   "source": [
    "df = lyr.query(out_sr=4326, as_df=True)\n",
    "df.head()"
   ]
  },
  {
   "cell_type": "code",
   "execution_count": 18,
   "metadata": {},
   "outputs": [
    {
     "name": "stderr",
     "output_type": "stream",
     "text": [
      "/Users/joel5174/miniconda3/envs/la-covid/lib/python3.8/site-packages/arcgis/features/geo/_accessor.py:2362: FutureWarning: The pandas.datetime class is deprecated and will be removed from pandas in a future version. Import from datetime module instead.\n",
      "  pd.datetime)):\n"
     ]
    },
    {
     "data": {
      "application/vnd.jupyter.widget-view+json": {
       "model_id": "4af5c93ee67e4e0e99141153caf6638b",
       "version_major": 2,
       "version_minor": 0
      },
      "text/plain": [
       "MapView(layout=Layout(height='400px', width='100%'))"
      ]
     },
     "metadata": {},
     "output_type": "display_data"
    },
    {
     "data": {
      "text/html": [
       "<div class=\"map-static-img-preview-39bd023b-b950-4dba-a7b1-abd6a9cd1f5f\"><img src=\"\"></img></div>"
      ],
      "text/plain": [
       "<IPython.core.display.HTML object>"
      ]
     },
     "metadata": {},
     "output_type": "display_data"
    }
   ],
   "source": [
    "df.spatial.plot(gis=GIS())"
   ]
  },
  {
   "cell_type": "code",
   "execution_count": null,
   "metadata": {},
   "outputs": [],
   "source": []
  }
 ],
 "metadata": {
  "kernelspec": {
   "display_name": "Python 3",
   "language": "python",
   "name": "python3"
  },
  "language_info": {
   "codemirror_mode": {
    "name": "ipython",
    "version": 3
   },
   "file_extension": ".py",
   "mimetype": "text/x-python",
   "name": "python",
   "nbconvert_exporter": "python",
   "pygments_lexer": "ipython3",
   "version": "3.8.2"
  }
 },
 "nbformat": 4,
 "nbformat_minor": 4
}
